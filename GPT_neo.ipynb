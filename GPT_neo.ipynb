{
 "cells": [
  {
   "cell_type": "markdown",
   "metadata": {},
   "source": [
    "Insatll and import dependencies"
   ]
  },
  {
   "cell_type": "markdown",
   "metadata": {},
   "source": [
    "Installing pytorch"
   ]
  },
  {
   "cell_type": "code",
   "execution_count": 3,
   "metadata": {},
   "outputs": [
    {
     "name": "stdout",
     "output_type": "stream",
     "text": [
      "Looking in indexes: https://download.pytorch.org/whl/cu118\n",
      "Requirement already satisfied: torch in c:\\users\\teena\\onedrive\\desktop\\python\\.conda\\lib\\site-packages (2.4.0+cu118)\n",
      "Requirement already satisfied: torchvision in c:\\users\\teena\\onedrive\\desktop\\python\\.conda\\lib\\site-packages (0.19.0+cu118)\n",
      "Requirement already satisfied: torchaudio in c:\\users\\teena\\onedrive\\desktop\\python\\.conda\\lib\\site-packages (2.4.0+cu118)\n",
      "Requirement already satisfied: filelock in c:\\users\\teena\\onedrive\\desktop\\python\\.conda\\lib\\site-packages (from torch) (3.13.1)\n",
      "Requirement already satisfied: typing-extensions>=4.8.0 in c:\\users\\teena\\onedrive\\desktop\\python\\.conda\\lib\\site-packages (from torch) (4.11.0)\n",
      "Requirement already satisfied: sympy in c:\\users\\teena\\onedrive\\desktop\\python\\.conda\\lib\\site-packages (from torch) (1.12)\n",
      "Requirement already satisfied: networkx in c:\\users\\teena\\onedrive\\desktop\\python\\.conda\\lib\\site-packages (from torch) (3.2.1)\n",
      "Requirement already satisfied: jinja2 in c:\\users\\teena\\onedrive\\desktop\\python\\.conda\\lib\\site-packages (from torch) (3.1.3)\n",
      "Requirement already satisfied: fsspec in c:\\users\\teena\\onedrive\\desktop\\python\\.conda\\lib\\site-packages (from torch) (2024.2.0)\n",
      "Requirement already satisfied: numpy in c:\\users\\teena\\onedrive\\desktop\\python\\.conda\\lib\\site-packages (from torchvision) (1.26.4)\n",
      "Requirement already satisfied: pillow!=8.3.*,>=5.3.0 in c:\\users\\teena\\onedrive\\desktop\\python\\.conda\\lib\\site-packages (from torchvision) (10.4.0)\n",
      "Requirement already satisfied: MarkupSafe>=2.0 in c:\\users\\teena\\onedrive\\desktop\\python\\.conda\\lib\\site-packages (from jinja2->torch) (2.1.5)\n",
      "Requirement already satisfied: mpmath>=0.19 in c:\\users\\teena\\onedrive\\desktop\\python\\.conda\\lib\\site-packages (from sympy->torch) (1.3.0)\n"
     ]
    }
   ],
   "source": [
    "!pip3 install torch torchvision torchaudio --index-url https://download.pytorch.org/whl/cu118"
   ]
  },
  {
   "cell_type": "markdown",
   "metadata": {},
   "source": [
    "Installing transformers"
   ]
  },
  {
   "cell_type": "code",
   "execution_count": 4,
   "metadata": {},
   "outputs": [
    {
     "name": "stdout",
     "output_type": "stream",
     "text": [
      "Requirement already satisfied: transformers in c:\\users\\teena\\onedrive\\desktop\\python\\.conda\\lib\\site-packages (4.44.2)\n",
      "Requirement already satisfied: filelock in c:\\users\\teena\\onedrive\\desktop\\python\\.conda\\lib\\site-packages (from transformers) (3.13.1)\n",
      "Requirement already satisfied: huggingface-hub<1.0,>=0.23.2 in c:\\users\\teena\\onedrive\\desktop\\python\\.conda\\lib\\site-packages (from transformers) (0.24.6)\n",
      "Requirement already satisfied: numpy>=1.17 in c:\\users\\teena\\onedrive\\desktop\\python\\.conda\\lib\\site-packages (from transformers) (1.26.4)\n",
      "Requirement already satisfied: packaging>=20.0 in c:\\users\\teena\\onedrive\\desktop\\python\\.conda\\lib\\site-packages (from transformers) (24.1)\n",
      "Requirement already satisfied: pyyaml>=5.1 in c:\\users\\teena\\onedrive\\desktop\\python\\.conda\\lib\\site-packages (from transformers) (6.0.2)\n",
      "Requirement already satisfied: regex!=2019.12.17 in c:\\users\\teena\\onedrive\\desktop\\python\\.conda\\lib\\site-packages\\regex-2024.7.24-py3.10-win-amd64.egg (from transformers) (2024.7.24)\n",
      "Requirement already satisfied: requests in c:\\users\\teena\\onedrive\\desktop\\python\\.conda\\lib\\site-packages (from transformers) (2.32.3)\n",
      "Requirement already satisfied: safetensors>=0.4.1 in c:\\users\\teena\\onedrive\\desktop\\python\\.conda\\lib\\site-packages (from transformers) (0.4.4)\n",
      "Requirement already satisfied: tokenizers<0.20,>=0.19 in c:\\users\\teena\\onedrive\\desktop\\python\\.conda\\lib\\site-packages (from transformers) (0.19.1)\n",
      "Requirement already satisfied: tqdm>=4.27 in c:\\users\\teena\\onedrive\\desktop\\python\\.conda\\lib\\site-packages (from transformers) (4.66.5)\n",
      "Requirement already satisfied: fsspec>=2023.5.0 in c:\\users\\teena\\onedrive\\desktop\\python\\.conda\\lib\\site-packages (from huggingface-hub<1.0,>=0.23.2->transformers) (2024.2.0)\n",
      "Requirement already satisfied: typing-extensions>=3.7.4.3 in c:\\users\\teena\\onedrive\\desktop\\python\\.conda\\lib\\site-packages (from huggingface-hub<1.0,>=0.23.2->transformers) (4.11.0)\n",
      "Requirement already satisfied: colorama in c:\\users\\teena\\onedrive\\desktop\\python\\.conda\\lib\\site-packages (from tqdm>=4.27->transformers) (0.4.6)\n",
      "Requirement already satisfied: charset-normalizer<4,>=2 in c:\\users\\teena\\onedrive\\desktop\\python\\.conda\\lib\\site-packages (from requests->transformers) (3.3.2)\n",
      "Requirement already satisfied: idna<4,>=2.5 in c:\\users\\teena\\onedrive\\desktop\\python\\.conda\\lib\\site-packages (from requests->transformers) (3.7)\n",
      "Requirement already satisfied: urllib3<3,>=1.21.1 in c:\\users\\teena\\onedrive\\desktop\\python\\.conda\\lib\\site-packages (from requests->transformers) (2.2.2)\n",
      "Requirement already satisfied: certifi>=2017.4.17 in c:\\users\\teena\\onedrive\\desktop\\python\\.conda\\lib\\site-packages (from requests->transformers) (2024.7.4)\n"
     ]
    }
   ],
   "source": [
    "!pip install transformers"
   ]
  },
  {
   "cell_type": "code",
   "execution_count": 15,
   "metadata": {},
   "outputs": [
    {
     "ename": "OSError",
     "evalue": "[WinError 126] The specified module could not be found. Error loading \"c:\\Users\\teena\\OneDrive\\Desktop\\python\\.conda\\lib\\site-packages\\torch\\lib\\fbgemm.dll\" or one of its dependencies.",
     "output_type": "error",
     "traceback": [
      "\u001b[1;31m---------------------------------------------------------------------------\u001b[0m",
      "\u001b[1;31mOSError\u001b[0m                                   Traceback (most recent call last)",
      "Cell \u001b[1;32mIn[15], line 1\u001b[0m\n\u001b[1;32m----> 1\u001b[0m \u001b[39mfrom\u001b[39;00m \u001b[39mtransformers\u001b[39;00m \u001b[39mimport\u001b[39;00m pipeline\n",
      "File \u001b[1;32mc:\\Users\\teena\\OneDrive\\Desktop\\python\\.conda\\lib\\site-packages\\transformers\\__init__.py:26\u001b[0m\n\u001b[0;32m     23\u001b[0m \u001b[39mfrom\u001b[39;00m \u001b[39mtyping\u001b[39;00m \u001b[39mimport\u001b[39;00m TYPE_CHECKING\n\u001b[0;32m     25\u001b[0m \u001b[39m# Check the dependencies satisfy the minimal versions required.\u001b[39;00m\n\u001b[1;32m---> 26\u001b[0m \u001b[39mfrom\u001b[39;00m \u001b[39m.\u001b[39;00m \u001b[39mimport\u001b[39;00m dependency_versions_check\n\u001b[0;32m     27\u001b[0m \u001b[39mfrom\u001b[39;00m \u001b[39m.\u001b[39;00m\u001b[39mutils\u001b[39;00m \u001b[39mimport\u001b[39;00m (\n\u001b[0;32m     28\u001b[0m     OptionalDependencyNotAvailable,\n\u001b[0;32m     29\u001b[0m     _LazyModule,\n\u001b[1;32m   (...)\u001b[0m\n\u001b[0;32m     48\u001b[0m     logging,\n\u001b[0;32m     49\u001b[0m )\n\u001b[0;32m     52\u001b[0m logger \u001b[39m=\u001b[39m logging\u001b[39m.\u001b[39mget_logger(\u001b[39m__name__\u001b[39m)  \u001b[39m# pylint: disable=invalid-name\u001b[39;00m\n",
      "File \u001b[1;32mc:\\Users\\teena\\OneDrive\\Desktop\\python\\.conda\\lib\\site-packages\\transformers\\dependency_versions_check.py:16\u001b[0m\n\u001b[0;32m      1\u001b[0m \u001b[39m# Copyright 2020 The HuggingFace Team. All rights reserved.\u001b[39;00m\n\u001b[0;32m      2\u001b[0m \u001b[39m#\u001b[39;00m\n\u001b[0;32m      3\u001b[0m \u001b[39m# Licensed under the Apache License, Version 2.0 (the \"License\");\u001b[39;00m\n\u001b[1;32m   (...)\u001b[0m\n\u001b[0;32m     12\u001b[0m \u001b[39m# See the License for the specific language governing permissions and\u001b[39;00m\n\u001b[0;32m     13\u001b[0m \u001b[39m# limitations under the License.\u001b[39;00m\n\u001b[0;32m     15\u001b[0m \u001b[39mfrom\u001b[39;00m \u001b[39m.\u001b[39;00m\u001b[39mdependency_versions_table\u001b[39;00m \u001b[39mimport\u001b[39;00m deps\n\u001b[1;32m---> 16\u001b[0m \u001b[39mfrom\u001b[39;00m \u001b[39m.\u001b[39;00m\u001b[39mutils\u001b[39;00m\u001b[39m.\u001b[39;00m\u001b[39mversions\u001b[39;00m \u001b[39mimport\u001b[39;00m require_version, require_version_core\n\u001b[0;32m     19\u001b[0m \u001b[39m# define which module versions we always want to check at run time\u001b[39;00m\n\u001b[0;32m     20\u001b[0m \u001b[39m# (usually the ones defined in `install_requires` in setup.py)\u001b[39;00m\n\u001b[0;32m     21\u001b[0m \u001b[39m#\u001b[39;00m\n\u001b[0;32m     22\u001b[0m \u001b[39m# order specific notes:\u001b[39;00m\n\u001b[0;32m     23\u001b[0m \u001b[39m# - tqdm must be checked before tokenizers\u001b[39;00m\n\u001b[0;32m     25\u001b[0m pkgs_to_check_at_runtime \u001b[39m=\u001b[39m [\n\u001b[0;32m     26\u001b[0m     \u001b[39m\"\u001b[39m\u001b[39mpython\u001b[39m\u001b[39m\"\u001b[39m,\n\u001b[0;32m     27\u001b[0m     \u001b[39m\"\u001b[39m\u001b[39mtqdm\u001b[39m\u001b[39m\"\u001b[39m,\n\u001b[1;32m   (...)\u001b[0m\n\u001b[0;32m     37\u001b[0m     \u001b[39m\"\u001b[39m\u001b[39mpyyaml\u001b[39m\u001b[39m\"\u001b[39m,\n\u001b[0;32m     38\u001b[0m ]\n",
      "File \u001b[1;32mc:\\Users\\teena\\OneDrive\\Desktop\\python\\.conda\\lib\\site-packages\\transformers\\utils\\__init__.py:34\u001b[0m\n\u001b[0;32m     25\u001b[0m \u001b[39mfrom\u001b[39;00m \u001b[39m.\u001b[39;00m\u001b[39mconstants\u001b[39;00m \u001b[39mimport\u001b[39;00m IMAGENET_DEFAULT_MEAN, IMAGENET_DEFAULT_STD, IMAGENET_STANDARD_MEAN, IMAGENET_STANDARD_STD\n\u001b[0;32m     26\u001b[0m \u001b[39mfrom\u001b[39;00m \u001b[39m.\u001b[39;00m\u001b[39mdoc\u001b[39;00m \u001b[39mimport\u001b[39;00m (\n\u001b[0;32m     27\u001b[0m     add_code_sample_docstrings,\n\u001b[0;32m     28\u001b[0m     add_end_docstrings,\n\u001b[1;32m   (...)\u001b[0m\n\u001b[0;32m     32\u001b[0m     replace_return_docstrings,\n\u001b[0;32m     33\u001b[0m )\n\u001b[1;32m---> 34\u001b[0m \u001b[39mfrom\u001b[39;00m \u001b[39m.\u001b[39;00m\u001b[39mgeneric\u001b[39;00m \u001b[39mimport\u001b[39;00m (\n\u001b[0;32m     35\u001b[0m     ContextManagers,\n\u001b[0;32m     36\u001b[0m     ExplicitEnum,\n\u001b[0;32m     37\u001b[0m     ModelOutput,\n\u001b[0;32m     38\u001b[0m     PaddingStrategy,\n\u001b[0;32m     39\u001b[0m     TensorType,\n\u001b[0;32m     40\u001b[0m     add_model_info_to_auto_map,\n\u001b[0;32m     41\u001b[0m     add_model_info_to_custom_pipelines,\n\u001b[0;32m     42\u001b[0m     cached_property,\n\u001b[0;32m     43\u001b[0m     can_return_loss,\n\u001b[0;32m     44\u001b[0m     expand_dims,\n\u001b[0;32m     45\u001b[0m     filter_out_non_signature_kwargs,\n\u001b[0;32m     46\u001b[0m     find_labels,\n\u001b[0;32m     47\u001b[0m     flatten_dict,\n\u001b[0;32m     48\u001b[0m     infer_framework,\n\u001b[0;32m     49\u001b[0m     is_jax_tensor,\n\u001b[0;32m     50\u001b[0m     is_numpy_array,\n\u001b[0;32m     51\u001b[0m     is_tensor,\n\u001b[0;32m     52\u001b[0m     is_tf_symbolic_tensor,\n\u001b[0;32m     53\u001b[0m     is_tf_tensor,\n\u001b[0;32m     54\u001b[0m     is_torch_device,\n\u001b[0;32m     55\u001b[0m     is_torch_dtype,\n\u001b[0;32m     56\u001b[0m     is_torch_tensor,\n\u001b[0;32m     57\u001b[0m     reshape,\n\u001b[0;32m     58\u001b[0m     squeeze,\n\u001b[0;32m     59\u001b[0m     strtobool,\n\u001b[0;32m     60\u001b[0m     tensor_size,\n\u001b[0;32m     61\u001b[0m     to_numpy,\n\u001b[0;32m     62\u001b[0m     to_py_obj,\n\u001b[0;32m     63\u001b[0m     torch_float,\n\u001b[0;32m     64\u001b[0m     torch_int,\n\u001b[0;32m     65\u001b[0m     transpose,\n\u001b[0;32m     66\u001b[0m     working_or_temp_dir,\n\u001b[0;32m     67\u001b[0m )\n\u001b[0;32m     68\u001b[0m \u001b[39mfrom\u001b[39;00m \u001b[39m.\u001b[39;00m\u001b[39mhub\u001b[39;00m \u001b[39mimport\u001b[39;00m (\n\u001b[0;32m     69\u001b[0m     CLOUDFRONT_DISTRIB_PREFIX,\n\u001b[0;32m     70\u001b[0m     HF_MODULES_CACHE,\n\u001b[1;32m   (...)\u001b[0m\n\u001b[0;32m     96\u001b[0m     try_to_load_from_cache,\n\u001b[0;32m     97\u001b[0m )\n\u001b[0;32m     98\u001b[0m \u001b[39mfrom\u001b[39;00m \u001b[39m.\u001b[39;00m\u001b[39mimport_utils\u001b[39;00m \u001b[39mimport\u001b[39;00m (\n\u001b[0;32m     99\u001b[0m     ACCELERATE_MIN_VERSION,\n\u001b[0;32m    100\u001b[0m     ENV_VARS_TRUE_AND_AUTO_VALUES,\n\u001b[1;32m   (...)\u001b[0m\n\u001b[0;32m    219\u001b[0m     torch_only_method,\n\u001b[0;32m    220\u001b[0m )\n",
      "File \u001b[1;32mc:\\Users\\teena\\OneDrive\\Desktop\\python\\.conda\\lib\\site-packages\\transformers\\utils\\generic.py:462\u001b[0m\n\u001b[0;32m    458\u001b[0m         \u001b[39mreturn\u001b[39;00m \u001b[39mtuple\u001b[39m(\u001b[39mself\u001b[39m[k] \u001b[39mfor\u001b[39;00m k \u001b[39min\u001b[39;00m \u001b[39mself\u001b[39m\u001b[39m.\u001b[39mkeys())\n\u001b[0;32m    461\u001b[0m \u001b[39mif\u001b[39;00m is_torch_available():\n\u001b[1;32m--> 462\u001b[0m     \u001b[39mimport\u001b[39;00m \u001b[39mtorch\u001b[39;00m\u001b[39m.\u001b[39;00m\u001b[39mutils\u001b[39;00m\u001b[39m.\u001b[39;00m\u001b[39m_pytree\u001b[39;00m \u001b[39mas\u001b[39;00m \u001b[39m_torch_pytree\u001b[39;00m\n\u001b[0;32m    464\u001b[0m     \u001b[39mdef\u001b[39;00m \u001b[39m_model_output_flatten\u001b[39m(output: ModelOutput) \u001b[39m-\u001b[39m\u001b[39m>\u001b[39m Tuple[List[Any], \u001b[39m\"\u001b[39m\u001b[39m_torch_pytree.Context\u001b[39m\u001b[39m\"\u001b[39m]:\n\u001b[0;32m    465\u001b[0m         \u001b[39mreturn\u001b[39;00m \u001b[39mlist\u001b[39m(output\u001b[39m.\u001b[39mvalues()), \u001b[39mlist\u001b[39m(output\u001b[39m.\u001b[39mkeys())\n",
      "File \u001b[1;32mc:\\Users\\teena\\OneDrive\\Desktop\\python\\.conda\\lib\\site-packages\\torch\\__init__.py:148\u001b[0m\n\u001b[0;32m    146\u001b[0m                 err \u001b[39m=\u001b[39m ctypes\u001b[39m.\u001b[39mWinError(ctypes\u001b[39m.\u001b[39mget_last_error())\n\u001b[0;32m    147\u001b[0m                 err\u001b[39m.\u001b[39mstrerror \u001b[39m+\u001b[39m\u001b[39m=\u001b[39m \u001b[39mf\u001b[39m\u001b[39m'\u001b[39m\u001b[39m Error loading \u001b[39m\u001b[39m\"\u001b[39m\u001b[39m{\u001b[39;00mdll\u001b[39m}\u001b[39;00m\u001b[39m\"\u001b[39m\u001b[39m or one of its dependencies.\u001b[39m\u001b[39m'\u001b[39m\n\u001b[1;32m--> 148\u001b[0m                 \u001b[39mraise\u001b[39;00m err\n\u001b[0;32m    150\u001b[0m     kernel32\u001b[39m.\u001b[39mSetErrorMode(prev_error_mode)\n\u001b[0;32m    153\u001b[0m \u001b[39mdef\u001b[39;00m \u001b[39m_preload_cuda_deps\u001b[39m(lib_folder, lib_name):\n",
      "\u001b[1;31mOSError\u001b[0m: [WinError 126] The specified module could not be found. Error loading \"c:\\Users\\teena\\OneDrive\\Desktop\\python\\.conda\\lib\\site-packages\\torch\\lib\\fbgemm.dll\" or one of its dependencies."
     ]
    }
   ],
   "source": [
    "from transformers import pipeline"
   ]
  },
  {
   "cell_type": "code",
   "execution_count": 9,
   "metadata": {},
   "outputs": [
    {
     "name": "stdout",
     "output_type": "stream",
     "text": [
      "^C\n",
      "Requirement already satisfied: transformers in c:\\users\\teena\\onedrive\\desktop\\python\\.conda\\lib\\site-packages (4.44.2)\n",
      "Requirement already satisfied: torch in c:\\users\\teena\\onedrive\\desktop\\python\\.conda\\lib\\site-packages (2.4.0+cu118)\n",
      "Requirement already satisfied: torchvision in c:\\users\\teena\\onedrive\\desktop\\python\\.conda\\lib\\site-packages (0.19.0+cu118)\n",
      "Requirement already satisfied: torchaudio in c:\\users\\teena\\onedrive\\desktop\\python\\.conda\\lib\\site-packages (2.4.0+cu118)\n",
      "Requirement already satisfied: filelock in c:\\users\\teena\\onedrive\\desktop\\python\\.conda\\lib\\site-packages (from transformers) (3.13.1)\n",
      "Requirement already satisfied: huggingface-hub<1.0,>=0.23.2 in c:\\users\\teena\\onedrive\\desktop\\python\\.conda\\lib\\site-packages (from transformers) (0.24.6)\n",
      "Requirement already satisfied: numpy>=1.17 in c:\\users\\teena\\onedrive\\desktop\\python\\.conda\\lib\\site-packages (from transformers) (1.26.4)\n",
      "Requirement already satisfied: packaging>=20.0 in c:\\users\\teena\\onedrive\\desktop\\python\\.conda\\lib\\site-packages (from transformers) (24.1)\n",
      "Requirement already satisfied: pyyaml>=5.1 in c:\\users\\teena\\onedrive\\desktop\\python\\.conda\\lib\\site-packages (from transformers) (6.0.2)\n",
      "Requirement already satisfied: regex!=2019.12.17 in c:\\users\\teena\\onedrive\\desktop\\python\\.conda\\lib\\site-packages\\regex-2024.7.24-py3.10-win-amd64.egg (from transformers) (2024.7.24)\n",
      "Requirement already satisfied: requests in c:\\users\\teena\\onedrive\\desktop\\python\\.conda\\lib\\site-packages (from transformers) (2.32.3)\n",
      "Requirement already satisfied: safetensors>=0.4.1 in c:\\users\\teena\\onedrive\\desktop\\python\\.conda\\lib\\site-packages (from transformers) (0.4.4)\n",
      "Requirement already satisfied: tokenizers<0.20,>=0.19 in c:\\users\\teena\\onedrive\\desktop\\python\\.conda\\lib\\site-packages (from transformers) (0.19.1)\n",
      "Requirement already satisfied: tqdm>=4.27 in c:\\users\\teena\\onedrive\\desktop\\python\\.conda\\lib\\site-packages (from transformers) (4.66.5)\n",
      "Requirement already satisfied: typing-extensions>=4.8.0 in c:\\users\\teena\\onedrive\\desktop\\python\\.conda\\lib\\site-packages (from torch) (4.11.0)\n",
      "Requirement already satisfied: sympy in c:\\users\\teena\\onedrive\\desktop\\python\\.conda\\lib\\site-packages (from torch) (1.12)\n",
      "Requirement already satisfied: networkx in c:\\users\\teena\\onedrive\\desktop\\python\\.conda\\lib\\site-packages (from torch) (3.2.1)\n",
      "Requirement already satisfied: jinja2 in c:\\users\\teena\\onedrive\\desktop\\python\\.conda\\lib\\site-packages (from torch) (3.1.3)\n",
      "Requirement already satisfied: fsspec in c:\\users\\teena\\onedrive\\desktop\\python\\.conda\\lib\\site-packages (from torch) (2024.2.0)\n",
      "Requirement already satisfied: pillow!=8.3.*,>=5.3.0 in c:\\users\\teena\\onedrive\\desktop\\python\\.conda\\lib\\site-packages (from torchvision) (10.4.0)\n",
      "Requirement already satisfied: colorama in c:\\users\\teena\\onedrive\\desktop\\python\\.conda\\lib\\site-packages (from tqdm>=4.27->transformers) (0.4.6)\n",
      "Requirement already satisfied: MarkupSafe>=2.0 in c:\\users\\teena\\onedrive\\desktop\\python\\.conda\\lib\\site-packages (from jinja2->torch) (2.1.5)\n",
      "Requirement already satisfied: charset-normalizer<4,>=2 in c:\\users\\teena\\onedrive\\desktop\\python\\.conda\\lib\\site-packages (from requests->transformers) (3.3.2)\n",
      "Requirement already satisfied: idna<4,>=2.5 in c:\\users\\teena\\onedrive\\desktop\\python\\.conda\\lib\\site-packages (from requests->transformers) (3.7)\n",
      "Requirement already satisfied: urllib3<3,>=1.21.1 in c:\\users\\teena\\onedrive\\desktop\\python\\.conda\\lib\\site-packages (from requests->transformers) (2.2.2)\n",
      "Requirement already satisfied: certifi>=2017.4.17 in c:\\users\\teena\\onedrive\\desktop\\python\\.conda\\lib\\site-packages (from requests->transformers) (2024.7.4)\n",
      "Requirement already satisfied: mpmath>=0.19 in c:\\users\\teena\\onedrive\\desktop\\python\\.conda\\lib\\site-packages (from sympy->torch) (1.3.0)\n"
     ]
    }
   ],
   "source": [
    "!pip uninstall transformers torch torchvision torchaudio\n",
    "!pip install transformers torch torchvision torchaudio\n"
   ]
  },
  {
   "cell_type": "code",
   "execution_count": 12,
   "metadata": {},
   "outputs": [
    {
     "name": "stdout",
     "output_type": "stream",
     "text": [
      "Looking in indexes: https://download.pytorch.org/whl/cu118\n",
      "Collecting torch\n",
      "  Using cached https://download.pytorch.org/whl/cu118/torch-2.4.0%2Bcu118-cp310-cp310-win_amd64.whl (2692.5 MB)\n",
      "Collecting torchvision\n",
      "  Using cached https://download.pytorch.org/whl/cu118/torchvision-0.19.0%2Bcu118-cp310-cp310-win_amd64.whl (5.0 MB)\n",
      "Collecting torchaudio\n",
      "  Using cached https://download.pytorch.org/whl/cu118/torchaudio-2.4.0%2Bcu118-cp310-cp310-win_amd64.whl (4.0 MB)\n",
      "Collecting filelock (from torch)\n",
      "  Using cached https://download.pytorch.org/whl/filelock-3.13.1-py3-none-any.whl (11 kB)\n",
      "Collecting typing-extensions>=4.8.0 (from torch)\n",
      "  Downloading https://download.pytorch.org/whl/typing_extensions-4.9.0-py3-none-any.whl (32 kB)\n",
      "Collecting sympy (from torch)\n",
      "  Using cached https://download.pytorch.org/whl/sympy-1.12-py3-none-any.whl (5.7 MB)\n",
      "Collecting networkx (from torch)\n",
      "  Using cached https://download.pytorch.org/whl/networkx-3.2.1-py3-none-any.whl (1.6 MB)\n",
      "Collecting jinja2 (from torch)\n",
      "  Using cached https://download.pytorch.org/whl/Jinja2-3.1.3-py3-none-any.whl (133 kB)\n",
      "Collecting fsspec (from torch)\n",
      "  Using cached https://download.pytorch.org/whl/fsspec-2024.2.0-py3-none-any.whl (170 kB)\n",
      "Collecting numpy (from torchvision)\n",
      "  Downloading https://download.pytorch.org/whl/numpy-1.26.3-cp310-cp310-win_amd64.whl (15.8 MB)\n",
      "     ---------------------------------------- 0.0/15.8 MB ? eta -:--:--\n",
      "     --- ------------------------------------ 1.3/15.8 MB 15.9 MB/s eta 0:00:01\n",
      "     ----- ---------------------------------- 2.3/15.8 MB 14.6 MB/s eta 0:00:01\n",
      "     --------- ------------------------------ 3.9/15.8 MB 15.5 MB/s eta 0:00:01\n",
      "     ------------ --------------------------- 4.9/15.8 MB 14.9 MB/s eta 0:00:01\n",
      "     -------------- ------------------------- 5.7/15.8 MB 14.6 MB/s eta 0:00:01\n",
      "     ----------------- ---------------------- 6.8/15.8 MB 13.9 MB/s eta 0:00:01\n",
      "     -------------------- ------------------- 7.9/15.8 MB 14.0 MB/s eta 0:00:01\n",
      "     ----------------------- ---------------- 9.3/15.8 MB 13.9 MB/s eta 0:00:01\n",
      "     ---------------------------- ---------- 11.5/15.8 MB 13.4 MB/s eta 0:00:01\n",
      "     ------------------------------ -------- 12.5/15.8 MB 13.6 MB/s eta 0:00:01\n",
      "     ------------------------------- ------- 12.7/15.8 MB 13.1 MB/s eta 0:00:01\n",
      "     --------------------------------- ----- 13.4/15.8 MB 12.4 MB/s eta 0:00:01\n",
      "     ----------------------------------- --- 14.3/15.8 MB 12.6 MB/s eta 0:00:01\n",
      "     ------------------------------------ -- 14.6/15.8 MB 12.1 MB/s eta 0:00:01\n",
      "     ------------------------------------- - 15.2/15.8 MB 12.1 MB/s eta 0:00:01\n",
      "     --------------------------------------  15.5/15.8 MB 11.7 MB/s eta 0:00:01\n",
      "     --------------------------------------  15.8/15.8 MB 11.5 MB/s eta 0:00:01\n",
      "     --------------------------------------- 15.8/15.8 MB 10.9 MB/s eta 0:00:00\n",
      "Collecting pillow!=8.3.*,>=5.3.0 (from torchvision)\n",
      "  Downloading https://download.pytorch.org/whl/pillow-10.2.0-cp310-cp310-win_amd64.whl (2.6 MB)\n",
      "     ---------------------------------------- 0.0/2.6 MB ? eta -:--:--\n",
      "     ---------------------------------------- 2.6/2.6 MB 84.2 MB/s eta 0:00:00\n",
      "Collecting MarkupSafe>=2.0 (from jinja2->torch)\n",
      "  Downloading https://download.pytorch.org/whl/MarkupSafe-2.1.5-cp310-cp310-win_amd64.whl (17 kB)\n",
      "Collecting mpmath>=0.19 (from sympy->torch)\n",
      "  Using cached https://download.pytorch.org/whl/mpmath-1.3.0-py3-none-any.whl (536 kB)\n",
      "Installing collected packages: mpmath, typing-extensions, sympy, pillow, numpy, networkx, MarkupSafe, fsspec, filelock, jinja2, torch, torchvision, torchaudio\n",
      "  Attempting uninstall: mpmath\n",
      "    Found existing installation: mpmath 1.3.0\n",
      "    Uninstalling mpmath-1.3.0:\n",
      "      Successfully uninstalled mpmath-1.3.0\n",
      "  Attempting uninstall: typing-extensions\n",
      "    Found existing installation: typing_extensions 4.11.0\n",
      "    Uninstalling typing_extensions-4.11.0:\n",
      "      Successfully uninstalled typing_extensions-4.11.0\n",
      "  Attempting uninstall: sympy\n",
      "    Found existing installation: sympy 1.12\n",
      "    Uninstalling sympy-1.12:\n",
      "      Successfully uninstalled sympy-1.12\n",
      "  Attempting uninstall: pillow\n",
      "    Found existing installation: pillow 10.4.0\n",
      "    Uninstalling pillow-10.4.0:\n",
      "      Successfully uninstalled pillow-10.4.0\n",
      "  Attempting uninstall: numpy\n",
      "    Found existing installation: numpy 1.26.4\n",
      "    Uninstalling numpy-1.26.4:\n",
      "      Successfully uninstalled numpy-1.26.4\n",
      "  Attempting uninstall: networkx\n",
      "    Found existing installation: networkx 3.2.1\n",
      "    Uninstalling networkx-3.2.1:\n",
      "      Successfully uninstalled networkx-3.2.1\n",
      "  Attempting uninstall: MarkupSafe\n",
      "    Found existing installation: MarkupSafe 2.1.5\n",
      "    Uninstalling MarkupSafe-2.1.5:\n",
      "      Successfully uninstalled MarkupSafe-2.1.5\n",
      "  Attempting uninstall: fsspec\n",
      "    Found existing installation: fsspec 2024.2.0\n",
      "    Uninstalling fsspec-2024.2.0:\n",
      "      Successfully uninstalled fsspec-2024.2.0\n",
      "  Attempting uninstall: filelock\n",
      "    Found existing installation: filelock 3.13.1\n",
      "    Uninstalling filelock-3.13.1:\n",
      "      Successfully uninstalled filelock-3.13.1\n",
      "  Attempting uninstall: jinja2\n",
      "    Found existing installation: Jinja2 3.1.3\n",
      "    Uninstalling Jinja2-3.1.3:\n",
      "      Successfully uninstalled Jinja2-3.1.3\n",
      "  Attempting uninstall: torch\n",
      "    Found existing installation: torch 2.4.0+cu118\n",
      "    Uninstalling torch-2.4.0+cu118:\n",
      "      Successfully uninstalled torch-2.4.0+cu118\n",
      "  Attempting uninstall: torchvision\n",
      "    Found existing installation: torchvision 0.19.0+cu118\n",
      "    Uninstalling torchvision-0.19.0+cu118:\n",
      "      Successfully uninstalled torchvision-0.19.0+cu118\n",
      "  Attempting uninstall: torchaudio\n",
      "    Found existing installation: torchaudio 2.4.0+cu118\n",
      "    Uninstalling torchaudio-2.4.0+cu118:\n",
      "      Successfully uninstalled torchaudio-2.4.0+cu118\n",
      "Successfully installed MarkupSafe-2.1.5 filelock-3.13.1 fsspec-2024.2.0 jinja2-3.1.3 mpmath-1.3.0 networkx-3.2.1 numpy-1.26.3 pillow-10.2.0 sympy-1.12 torch-2.4.0+cu118 torchaudio-2.4.0+cu118 torchvision-0.19.0+cu118 typing-extensions-4.9.0\n"
     ]
    },
    {
     "name": "stderr",
     "output_type": "stream",
     "text": [
      "  WARNING: Failed to remove contents in a temporary directory 'C:\\Users\\teena\\OneDrive\\Desktop\\python\\.conda\\Lib\\site-packages\\~il'.\n",
      "  You can safely remove it manually.\n",
      "  WARNING: Failed to remove contents in a temporary directory 'C:\\Users\\teena\\OneDrive\\Desktop\\python\\.conda\\Lib\\site-packages\\~umpy.libs'.\n",
      "  You can safely remove it manually.\n",
      "  WARNING: Failed to remove contents in a temporary directory 'C:\\Users\\teena\\OneDrive\\Desktop\\python\\.conda\\Lib\\site-packages\\~umpy'.\n",
      "  You can safely remove it manually.\n",
      "  WARNING: Failed to remove contents in a temporary directory 'C:\\Users\\teena\\OneDrive\\Desktop\\python\\.conda\\Lib\\site-packages\\~orch'.\n",
      "  You can safely remove it manually.\n",
      "ERROR: pip's dependency resolver does not currently take into account all the packages that are installed. This behaviour is the source of the following dependency conflicts.\n",
      "tf-models-official 2.17.0 requires gin-config, which is not installed.\n",
      "tf-models-official 2.17.0 requires google-api-python-client>=1.6.7, which is not installed.\n",
      "tf-models-official 2.17.0 requires immutabledict, which is not installed.\n",
      "tf-models-official 2.17.0 requires kaggle>=1.3.9, which is not installed.\n",
      "tf-models-official 2.17.0 requires oauth2client, which is not installed.\n",
      "tf-models-official 2.17.0 requires opencv-python-headless, which is not installed.\n",
      "tf-models-official 2.17.0 requires py-cpuinfo>=3.3.0, which is not installed.\n",
      "tf-models-official 2.17.0 requires sentencepiece, which is not installed.\n",
      "tf-models-official 2.17.0 requires seqeval, which is not installed.\n",
      "tf-models-official 2.17.0 requires tensorflow-datasets, which is not installed.\n",
      "tf-models-official 2.17.0 requires tensorflow-hub>=0.6.0, which is not installed.\n",
      "tf-models-official 2.17.0 requires tensorflow-model-optimization>=0.4.1, which is not installed.\n",
      "tf-models-official 2.17.0 requires tensorflow-text~=2.17.0, which is not installed.\n",
      "pandas 2.2.2 requires tzdata>=2022.7, which is not installed.\n",
      "apache-beam 2.58.1 requires cloudpickle~=2.2.1, which is not installed.\n",
      "apache-beam 2.58.1 requires crcmod<2.0,>=1.7, which is not installed.\n",
      "apache-beam 2.58.1 requires dill<0.3.2,>=0.3.1.1, which is not installed.\n",
      "apache-beam 2.58.1 requires fastavro<2,>=0.23.6, which is not installed.\n",
      "apache-beam 2.58.1 requires fasteners<1.0,>=0.3, which is not installed.\n",
      "apache-beam 2.58.1 requires hdfs<3.0.0,>=2.1.0, which is not installed.\n",
      "apache-beam 2.58.1 requires httplib2<0.23.0,>=0.8, which is not installed.\n",
      "apache-beam 2.58.1 requires js2py<1,>=0.74, which is not installed.\n",
      "apache-beam 2.58.1 requires jsonpickle<4.0.0,>=3.0.0, which is not installed.\n",
      "apache-beam 2.58.1 requires jsonschema<5.0.0,>=4.0.0, which is not installed.\n",
      "apache-beam 2.58.1 requires objsize<0.8.0,>=0.6.1, which is not installed.\n",
      "apache-beam 2.58.1 requires orjson<4,>=3.9.7, which is not installed.\n",
      "apache-beam 2.58.1 requires proto-plus<2,>=1.7.1, which is not installed.\n",
      "apache-beam 2.58.1 requires pyarrow<17.0.0,>=3.0.0, which is not installed.\n",
      "apache-beam 2.58.1 requires pyarrow-hotfix<1, which is not installed.\n",
      "apache-beam 2.58.1 requires pydot<2,>=1.2.0, which is not installed.\n",
      "apache-beam 2.58.1 requires pymongo<5.0.0,>=3.8.0, which is not installed.\n",
      "apache-beam 2.58.1 requires redis<6,>=5.0.0, which is not installed.\n",
      "apache-beam 2.58.1 requires zstandard<1,>=0.18.0, which is not installed.\n",
      "mediapipe 0.10.14 requires protobuf<5,>=4.25.3, but you have protobuf 3.20.3 which is incompatible.\n",
      "object-detection 0.1 requires pyparsing==2.4.7, but you have pyparsing 3.1.2 which is incompatible.\n",
      "apache-beam 2.58.1 requires requests!=2.32.*,<3.0.0,>=2.24.0, but you have requests 2.32.3 which is incompatible.\n"
     ]
    }
   ],
   "source": [
    "!pip3 install torch torchvision torchaudio --index-url https://download.pytorch.org/whl/cu118 --force-reinstall \n",
    "# Force reinstall torchvision to ensure it matches PyTorch's CUDA version"
   ]
  },
  {
   "cell_type": "markdown",
   "metadata": {},
   "source": [
    "Setup generator"
   ]
  },
  {
   "cell_type": "code",
   "execution_count": 14,
   "metadata": {},
   "outputs": [
    {
     "ename": "NameError",
     "evalue": "name 'pipeline' is not defined",
     "output_type": "error",
     "traceback": [
      "\u001b[1;31m---------------------------------------------------------------------------\u001b[0m",
      "\u001b[1;31mNameError\u001b[0m                                 Traceback (most recent call last)",
      "Cell \u001b[1;32mIn[14], line 1\u001b[0m\n\u001b[1;32m----> 1\u001b[0m generator\u001b[39m=\u001b[39mpipeline(\u001b[39m'\u001b[39m\u001b[39mtext-generation\u001b[39m\u001b[39m'\u001b[39m,model\u001b[39m=\u001b[39m\u001b[39m'\u001b[39m\u001b[39mEleutherAI/gpt-neo-2.78\u001b[39m\u001b[39m'\u001b[39m)\n",
      "\u001b[1;31mNameError\u001b[0m: name 'pipeline' is not defined"
     ]
    }
   ],
   "source": [
    "generator=pipeline('text-generation',model='EleutherAI/gpt-neo-2.78')"
   ]
  },
  {
   "cell_type": "code",
   "execution_count": 16,
   "metadata": {},
   "outputs": [],
   "source": [
    "prompt=\"import pandas as pd\""
   ]
  },
  {
   "cell_type": "code",
   "execution_count": 17,
   "metadata": {},
   "outputs": [
    {
     "ename": "NameError",
     "evalue": "name 'generator' is not defined",
     "output_type": "error",
     "traceback": [
      "\u001b[1;31m---------------------------------------------------------------------------\u001b[0m",
      "\u001b[1;31mNameError\u001b[0m                                 Traceback (most recent call last)",
      "Cell \u001b[1;32mIn[17], line 1\u001b[0m\n\u001b[1;32m----> 1\u001b[0m text\u001b[39m=\u001b[39mgenerator(prompt,max_length\u001b[39m=\u001b[39m\u001b[39m50\u001b[39m,do_sample\u001b[39m=\u001b[39m\u001b[39mTrue\u001b[39;00m,temperature\u001b[39m=\u001b[39m\u001b[39m0.9\u001b[39m)\n",
      "\u001b[1;31mNameError\u001b[0m: name 'generator' is not defined"
     ]
    }
   ],
   "source": [
    "text=generator(prompt,max_length=50,do_sample=True,temperature=0.9)"
   ]
  },
  {
   "cell_type": "code",
   "execution_count": null,
   "metadata": {},
   "outputs": [],
   "source": [
    "print(text[0]['generated_text'])"
   ]
  },
  {
   "cell_type": "code",
   "execution_count": null,
   "metadata": {},
   "outputs": [],
   "source": [
    "with open('gettext.txt','w') as f:\n",
    "    f.writelines(text[0]['generated_text'])"
   ]
  }
 ],
 "metadata": {
  "kernelspec": {
   "display_name": "Python 3.10.14",
   "language": "python",
   "name": "python3"
  },
  "language_info": {
   "codemirror_mode": {
    "name": "ipython",
    "version": 3
   },
   "file_extension": ".py",
   "mimetype": "text/x-python",
   "name": "python",
   "nbconvert_exporter": "python",
   "pygments_lexer": "ipython3",
   "version": "3.10.14"
  },
  "orig_nbformat": 4,
  "vscode": {
   "interpreter": {
    "hash": "58dd03c82a856a2c41288e86c367ed0bd38cf70c1a355097456901c82d37a119"
   }
  }
 },
 "nbformat": 4,
 "nbformat_minor": 2
}
